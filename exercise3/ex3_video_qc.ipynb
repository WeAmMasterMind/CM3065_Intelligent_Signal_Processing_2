{
 "cells": [
  {
   "cell_type": "code",
   "execution_count": 1,
   "id": "33cbddcb",
   "metadata": {},
   "outputs": [],
   "source": [
    "# Cell 0 imports & paths\n",
    "import pathlib, json, subprocess, shlex, textwrap, sys\n",
    "\n",
    "ASSETS = pathlib.Path(\"assets\")\n",
    "SPEC   = {\n",
    "    \"container\": \"mov,mp4,m4a,3gp,3g2,mj2\",  # what ffprobe returns for ISO BMFF\n",
    "    \"vcodec\"   : \"h264\",\n",
    "    \"width\"    : 640,\n",
    "    \"height\"   : 360,\n",
    "    \"fps\"      : 25,\n",
    "    \"dar\"      : \"16:9\",\n",
    "    \"acodec\"   : \"aac\",\n",
    "    \"achans\"   : 2,\n",
    "    \"abitrate\" : 192000,   # bits per second\n",
    "}\n"
   ]
  },
  {
   "cell_type": "code",
   "execution_count": 2,
   "id": "4341fc1b",
   "metadata": {},
   "outputs": [],
   "source": [
    "# Cell 1 helper to call ffprobe\n",
    "def probe(path: pathlib.Path) -> dict:\n",
    "    \"\"\"\n",
    "    Return ffprobe json dict (streams + format).\n",
    "    \"\"\"\n",
    "    cmd = f'ffprobe -v quiet -print_format json -show_streams -show_format \"{path}\"'\n",
    "    out = subprocess.check_output(shlex.split(cmd), text=True)\n",
    "    return json.loads(out)\n"
   ]
  },
  {
   "cell_type": "code",
   "execution_count": 3,
   "id": "f8f2cba5",
   "metadata": {},
   "outputs": [
    {
     "name": "stdout",
     "output_type": "stream",
     "text": [
      "Cosmos_War_of_the_Planets.mp4  –  628×354, 29.97 fps, DAR 314:177\n",
      "Last_man_on_earth_1964.mov  –  video codec prores, 23.98 fps, audio codec pcm_s16le\n",
      "The_Gun_and_the_Pulpit.avi  –  container avi, video codec rawvideo, 720×404, DAR ?, audio codec pcm_s16le\n",
      "The_Hill_Gang_Rides_Again.mp4  –  OK\n",
      "Voyage_to_the_Planet_of_Prehistoric_Women.mp4  –  video codec hevc, 29.97 fps, audio codec mp3\n"
     ]
    }
   ],
   "source": [
    "# Cell 2 QC checks\n",
    "report_lines = []\n",
    "bad_files    = []\n",
    "\n",
    "for video in ASSETS.iterdir():\n",
    "    if video.suffix.lower() not in {\".mp4\", \".mov\", \".avi\", \".mkv\"}:\n",
    "        continue\n",
    "    meta = probe(video)\n",
    "    fmt  = meta[\"format\"]\n",
    "    vstr = next(s for s in meta[\"streams\"] if s[\"codec_type\"] == \"video\")\n",
    "    astr = next(s for s in meta[\"streams\"] if s[\"codec_type\"] == \"audio\")\n",
    "\n",
    "    problems = []\n",
    "\n",
    "    # container\n",
    "    if fmt[\"format_name\"] not in SPEC[\"container\"]:\n",
    "        problems.append(f\"container {fmt['format_name']}\")\n",
    "\n",
    "    # video stream checks\n",
    "    if vstr[\"codec_name\"] != SPEC[\"vcodec\"]:\n",
    "        problems.append(f\"video codec {vstr['codec_name']}\")\n",
    "    if int(vstr[\"width\"])  != SPEC[\"width\"] or int(vstr[\"height\"]) != SPEC[\"height\"]:\n",
    "        problems.append(f\"{vstr['width']}×{vstr['height']}\")\n",
    "    # fps\n",
    "    num, den = map(int, vstr[\"r_frame_rate\"].split(\"/\"))\n",
    "    fps = num / den\n",
    "    if abs(fps - SPEC[\"fps\"]) > 0.1:\n",
    "        problems.append(f\"{fps:.2f} fps\")\n",
    "    # display aspect ratio\n",
    "    if vstr.get(\"display_aspect_ratio\") != SPEC[\"dar\"]:\n",
    "        problems.append(f\"DAR {vstr.get('display_aspect_ratio','?')}\")\n",
    "\n",
    "    # audio stream checks\n",
    "    if astr[\"codec_name\"] != SPEC[\"acodec\"]:\n",
    "        problems.append(f\"audio codec {astr['codec_name']}\")\n",
    "    if int(astr.get(\"channels\", 0)) != SPEC[\"achans\"]:\n",
    "        problems.append(f\"{astr.get('channels')} ch\")\n",
    "    if int(astr.get(\"bit_rate\", 0)) < SPEC[\"abitrate\"]:\n",
    "        problems.append(f\"audio ≤ {int(astr.get('bit_rate',0))//1000} kb/s\")\n",
    "\n",
    "    if problems:\n",
    "        bad_files.append(video)\n",
    "        report_lines.append(f\"{video.name}  –  \" + \", \".join(problems))\n",
    "    else:\n",
    "        report_lines.append(f\"{video.name}  –  OK\")\n",
    "\n",
    "# write report.txt\n",
    "(ASSETS.parent / \"report.txt\").write_text(\"\\n\".join(report_lines))\n",
    "print(\"\\n\".join(report_lines))\n"
   ]
  },
  {
   "cell_type": "code",
   "execution_count": 4,
   "id": "65334fac",
   "metadata": {},
   "outputs": [
    {
     "name": "stdout",
     "output_type": "stream",
     "text": [
      ">> ffmpeg -y -i assets\\Cosmos_War_of_the_Planets.mp4 -c:v libx264 -preset slow -b:v 3M -vf scale=640:360,fps=25,setdar=16/9 -c:a aac -b:a 192k -ac 2 assets\\Cosmos_War_of_the_Planets_formatOK.mp4\n",
      ">> ffmpeg -y -i assets\\Last_man_on_earth_1964.mov -c:v libx264 -preset slow -b:v 3M -vf scale=640:360,fps=25,setdar=16/9 -c:a aac -b:a 192k -ac 2 assets\\Last_man_on_earth_1964_formatOK.mp4\n",
      ">> ffmpeg -y -i assets\\The_Gun_and_the_Pulpit.avi -c:v libx264 -preset slow -b:v 3M -vf scale=640:360,fps=25,setdar=16/9 -c:a aac -b:a 192k -ac 2 assets\\The_Gun_and_the_Pulpit_formatOK.mp4\n",
      ">> ffmpeg -y -i assets\\Voyage_to_the_Planet_of_Prehistoric_Women.mp4 -c:v libx264 -preset slow -b:v 3M -vf scale=640:360,fps=25,setdar=16/9 -c:a aac -b:a 192k -ac 2 assets\\Voyage_to_the_Planet_of_Prehistoric_Women_formatOK.mp4\n",
      "Conversion done: 4 files fixed.\n"
     ]
    }
   ],
   "source": [
    "# Cell 3 convert the bad files\n",
    "for video in bad_files:\n",
    "    out = video.with_stem(video.stem + \"_formatOK\").with_suffix(\".mp4\")\n",
    "    cmd = [\n",
    "        \"ffmpeg\", \"-y\", \"-i\", str(video),\n",
    "        # video\n",
    "        \"-c:v\", \"libx264\", \"-preset\", \"slow\", \"-b:v\", \"3M\",\n",
    "        \"-vf\", \"scale=640:360,fps=25,setdar=16/9\",\n",
    "        # audio\n",
    "        \"-c:a\", \"aac\", \"-b:a\", \"192k\", \"-ac\", \"2\",\n",
    "        str(out)\n",
    "    ]\n",
    "    print(\">>\", \" \".join(cmd))\n",
    "    subprocess.run(cmd, check=True)\n",
    "print(\"Conversion done:\", len(bad_files), \"files fixed.\")\n"
   ]
  },
  {
   "cell_type": "markdown",
   "id": "f923b51e",
   "metadata": {},
   "source": [
    "**Quick media-format glossary **  \n",
    "*Container vs. codec* – MP4, MOV, AVI are “boxes”; H.264 and AAC are the\n",
    "payload. A file can be MP4 outside but still hold the wrong codecs.  \n",
    "*Frame-rate (fps)* – The festival wants **25 fps**, the European broadcast\n",
    "standard. A variable or 29.97 fps clip stutters on PAL equipment, so we force\n",
    "`fps=25`.  \n",
    "*Resolution & DAR* – Scaling to **640×360** keeps the pixels square; `setdar=16/9`\n",
    "tells players the intended display shape.  \n",
    "*Bit-rate* – `-b:v 3M` is plenty for SD H.264; audio at **192 kb/s stereo** is\n",
    "transparent quality yet small.  \n",
    "*`libx264 preset slow`* – balances encoding time and quality; “slow” maximises\n",
    "PSNR at this resolution.  \n",
    "`ffprobe` exposes every field in JSON, so the QC script can reject any clip\n",
    "that drifts from these numbers and then `ffmpeg` fixes them in one pass.\n"
   ]
  }
 ],
 "metadata": {
  "kernelspec": {
   "display_name": "base",
   "language": "python",
   "name": "python3"
  },
  "language_info": {
   "codemirror_mode": {
    "name": "ipython",
    "version": 3
   },
   "file_extension": ".py",
   "mimetype": "text/x-python",
   "name": "python",
   "nbconvert_exporter": "python",
   "pygments_lexer": "ipython3",
   "version": "3.13.5"
  }
 },
 "nbformat": 4,
 "nbformat_minor": 5
}
