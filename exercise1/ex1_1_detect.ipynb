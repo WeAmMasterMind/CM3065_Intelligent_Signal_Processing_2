{
 "cells": [
  {
   "cell_type": "code",
   "execution_count": 13,
   "id": "e57db939",
   "metadata": {},
   "outputs": [],
   "source": [
    "# Cell 0 \n",
    "# Install YOLOv8 (first run only) and import libs\n",
    "try:\n",
    "    from ultralytics import YOLO\n",
    "except ModuleNotFoundError:\n",
    "    !pip install -q ultralytics\n",
    "    from ultralytics import YOLO\n",
    "\n",
    "import cv2, itertools, pathlib, numpy as np\n"
   ]
  },
  {
   "cell_type": "code",
   "execution_count": 14,
   "id": "176853a6",
   "metadata": {},
   "outputs": [],
   "source": [
    "# Cell 1 – config\n",
    "VIDEO   = pathlib.Path(\"assets/Traffic_Laramie_1.mp4\")     # swap to _2 later\n",
    "OUTPATH = VIDEO.with_name(VIDEO.stem + \"_yolo_detect.mp4\")\n",
    "SAVE         = True\n",
    "CAR_CLASSES  = {2, 3, 5, 7}    # COCO ids → car, motorcycle, bus, truck\n",
    "CONF_THR     = 0.40            # YOLO confidence threshold\n",
    "MAX_DIST     = 60              # tracker matching radius (px)\n",
    "TTL_FRAMES   = 20              # frames to keep a lost track\n",
    "\n"
   ]
  },
  {
   "cell_type": "code",
   "execution_count": 15,
   "id": "c96d3c73",
   "metadata": {},
   "outputs": [],
   "source": [
    "# Cell 2 \n",
    "# 5 MB Nano weights (downloads once)\n",
    "model = YOLO(\"yolov8n.pt\")\n",
    "\n"
   ]
  },
  {
   "cell_type": "code",
   "execution_count": 16,
   "id": "3a09de8b",
   "metadata": {},
   "outputs": [],
   "source": [
    "# Cell 3 \n",
    "cap  = cv2.VideoCapture(str(VIDEO))\n",
    "fps  = cap.get(cv2.CAP_PROP_FPS) or 25\n",
    "W    = int(cap.get(cv2.CAP_PROP_FRAME_WIDTH))\n",
    "H    = int(cap.get(cv2.CAP_PROP_FRAME_HEIGHT))\n",
    "\n",
    "four = cv2.VideoWriter_fourcc(*\"mp4v\")\n",
    "vw   = cv2.VideoWriter(str(OUTPATH), four, fps, (W, H)) if SAVE else None\n",
    "\n",
    "\n"
   ]
  },
  {
   "cell_type": "code",
   "execution_count": 17,
   "id": "0760fb07",
   "metadata": {},
   "outputs": [],
   "source": [
    "# Cell 4 \n",
    "nextID  = itertools.count()          # id generator\n",
    "tracks  = {}                         # id → (centroid, ttl)\n",
    "\n"
   ]
  },
  {
   "cell_type": "code",
   "execution_count": 18,
   "id": "403d3f58",
   "metadata": {},
   "outputs": [
    {
     "name": "stdout",
     "output_type": "stream",
     "text": [
      "Output saved to: assets\\Traffic_Laramie_1_yolo_detect.mp4\n"
     ]
    }
   ],
   "source": [
    "# Cell 5 \n",
    "while True:\n",
    "    ok, frame = cap.read()\n",
    "    if not ok:\n",
    "        break\n",
    "\n",
    "    # ---------------------------------------------------------------\n",
    "    # ---  A) foreground mask ------------------------------\n",
    "    if 'bg' not in globals():\n",
    "        bg = cv2.createBackgroundSubtractorMOG2(\n",
    "                history=500, varThreshold=16, detectShadows=False)\n",
    "    mask = bg.apply(frame, learningRate=0)          # 255 = motion, 0 = static\n",
    "    fg   = cv2.medianBlur(mask, 5)                  # quick speckle cleanup\n",
    "\n",
    "    # 1. YOLO inference  +  filter on motion ratio ------------------\n",
    "    detections = []\n",
    "    MOTION_FRAC = 0.03         # 3 % pixels inside the box must be “moving”\n",
    "\n",
    "    res = model(frame, verbose=False)[0]\n",
    "    for box, cls, conf in zip(res.boxes.xyxy.cpu().numpy(),\n",
    "                            res.boxes.cls.cpu().numpy(),\n",
    "                            res.boxes.conf.cpu().numpy()):\n",
    "        if int(cls) not in CAR_CLASSES or conf < CONF_THR:\n",
    "            continue\n",
    "\n",
    "        x1,y1,x2,y2 = box.astype(int)\n",
    "        # --- B) motion test inside the bounding box ----------------\n",
    "        roi = fg[max(0,y1):min(H,y2), max(0,x1):min(W,x2)]\n",
    "        if roi.size == 0:               # sanity\n",
    "            continue\n",
    "        moving_frac = (roi > 0).mean()  # ratio 0-1\n",
    "        if moving_frac < MOTION_FRAC:   # parked → skip\n",
    "            continue\n",
    "\n",
    "        cx, cy = (x1+x2)//2, (y1+y2)//2\n",
    "        detections.append(((cx,cy), (x1,y1,x2-x1,y2-y1)))\n",
    "\n",
    "\n",
    "    # -- 2. Match detections → existing tracks --------------------\n",
    "    used = set()\n",
    "    for tid, (prev_c, ttl) in list(tracks.items()):\n",
    "        if detections:\n",
    "            dists = [np.hypot(cx-prev_c[0], cy-prev_c[1])\n",
    "                     for (cx,cy),_ in detections]\n",
    "            idx, dist = int(np.argmin(dists)), min(dists)\n",
    "            if dist < MAX_DIST:\n",
    "                (cx,cy), bbox = detections[idx]\n",
    "                tracks[tid]   = ((cx,cy), TTL_FRAMES)\n",
    "                used.add(idx)\n",
    "                x,y,w,h = bbox\n",
    "                cv2.rectangle(frame,(x,y),(x+w,y+h),(0,255,0),2)\n",
    "                cv2.putText(frame,f\"#{tid}\",(x,y-6),\n",
    "                            cv2.FONT_HERSHEY_SIMPLEX,0.5,(0,255,0),1)\n",
    "                continue\n",
    "        # decay TTL if unmatched\n",
    "        ttl -= 1\n",
    "        if ttl <= 0:\n",
    "            tracks.pop(tid)\n",
    "        else:\n",
    "            tracks[tid] = (prev_c, ttl)\n",
    "\n",
    "    # -- 3. New tracks for unmatched detections --------------------\n",
    "    for i,(centroid,bbox) in enumerate(detections):\n",
    "        if i in used: continue\n",
    "        tid = next(nextID)\n",
    "        tracks[tid] = (centroid, TTL_FRAMES)\n",
    "        x,y,w,h = bbox\n",
    "        cv2.rectangle(frame,(x,y),(x+w,y+h),(0,255,0),2)\n",
    "        cv2.putText(frame,f\"#{tid}\",(x,y-6),\n",
    "                    cv2.FONT_HERSHEY_SIMPLEX,0.5,(0,255,0),1)\n",
    "\n",
    "    # -- 4. Display / write ---------------------------------\n",
    "    if SAVE: vw.write(frame)\n",
    "    cv2.imshow(\"YOLO detect + track\", frame)\n",
    "    if cv2.waitKey(1) & 0xFF == 27:   # ESC\n",
    "        break\n",
    "\n",
    "cap.release()\n",
    "if SAVE: vw.release()\n",
    "cv2.destroyAllWindows()\n",
    "print(\"Output saved to:\", OUTPATH if SAVE else \"<not saved>\")\n"
   ]
  }
 ],
 "metadata": {
  "kernelspec": {
   "display_name": "base",
   "language": "python",
   "name": "python3"
  },
  "language_info": {
   "codemirror_mode": {
    "name": "ipython",
    "version": 3
   },
   "file_extension": ".py",
   "mimetype": "text/x-python",
   "name": "python",
   "nbconvert_exporter": "python",
   "pygments_lexer": "ipython3",
   "version": "3.13.5"
  }
 },
 "nbformat": 4,
 "nbformat_minor": 5
}
